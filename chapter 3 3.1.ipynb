{
 "cells": [
  {
   "cell_type": "markdown",
   "metadata": {},
   "source": [
    "###### .\n",
    "    []-set of character\n",
    "    \\-specia seq\n",
    "    .-any character\n",
    "    ^-start\n",
    "    $-end\n",
    "    *-zero or more\n",
    "    +-one or more\n",
    "    ?-zero or one\n",
    "    {}-specific\n",
    "    |-either or\n",
    "    ()-group"
   ]
  },
  {
   "cell_type": "code",
   "execution_count": 1,
   "metadata": {},
   "outputs": [],
   "source": [
    "import re"
   ]
  },
  {
   "cell_type": "code",
   "execution_count": 2,
   "metadata": {},
   "outputs": [
    {
     "name": "stdout",
     "output_type": "stream",
     "text": [
      "['h', 'e', 'a', 'i', 'n', 'i', 'n', 'a', 'i', 'n']\n"
     ]
    }
   ],
   "source": [
    "txt='The rain in spain'\n",
    "x=re.findall(r\"[a-n]\",txt)\n",
    "print(x)"
   ]
  },
  {
   "cell_type": "code",
   "execution_count": 3,
   "metadata": {},
   "outputs": [
    {
     "name": "stdout",
     "output_type": "stream",
     "text": [
      "['h', 'e', ' ', 'a', 'i', 'n', ' ', 'i', 'n', ' ', 'a', 'i', 'n']\n"
     ]
    }
   ],
   "source": [
    "txt='The rain in spain'\n",
    "x=re.findall(r\"[a-n,' ']\",txt)\n",
    "print(x)"
   ]
  },
  {
   "cell_type": "code",
   "execution_count": 4,
   "metadata": {},
   "outputs": [
    {
     "name": "stdout",
     "output_type": "stream",
     "text": [
      "[' r', ' s']\n"
     ]
    }
   ],
   "source": [
    "txt='The rain in spain'\n",
    "x=re.findall(r\"[a-n,' '][o-z]\",txt)\n",
    "print(x)"
   ]
  },
  {
   "cell_type": "code",
   "execution_count": 5,
   "metadata": {},
   "outputs": [
    {
     "name": "stdout",
     "output_type": "stream",
     "text": [
      "[' r', 'in', 'in', ' s', 'in']\n"
     ]
    }
   ],
   "source": [
    "txt='The rain in spain'\n",
    "x=re.findall(r\"[a-m,' '][n-z]\",txt)\n",
    "print(x)"
   ]
  },
  {
   "cell_type": "code",
   "execution_count": 6,
   "metadata": {},
   "outputs": [
    {
     "name": "stdout",
     "output_type": "stream",
     "text": [
      "['T', 'r', 'n', 'n', 's', 'p', 'n']\n"
     ]
    }
   ],
   "source": [
    "txt='The rain in spain'\n",
    "x=re.findall(r\"[^a-m,' ']\",txt)  #ignore case\n",
    "print(x)"
   ]
  },
  {
   "cell_type": "code",
   "execution_count": 7,
   "metadata": {},
   "outputs": [
    {
     "name": "stdout",
     "output_type": "stream",
     "text": [
      "['1', '2', '3', '4', '5']\n"
     ]
    }
   ],
   "source": [
    "txt='The rain 123 in 45 spain'\n",
    "x=re.findall(r\"\\d\",txt)\n",
    "print(x)"
   ]
  },
  {
   "cell_type": "code",
   "execution_count": 8,
   "metadata": {},
   "outputs": [
    {
     "name": "stdout",
     "output_type": "stream",
     "text": [
      "['12', '45']\n"
     ]
    }
   ],
   "source": [
    "txt='The rain 123 in 45 spain'\n",
    "x=re.findall(r\"[0-9][0-9]\",txt)\n",
    "print(x)"
   ]
  },
  {
   "cell_type": "code",
   "execution_count": 9,
   "metadata": {},
   "outputs": [
    {
     "name": "stdout",
     "output_type": "stream",
     "text": [
      "['Th']\n"
     ]
    }
   ],
   "source": [
    "txt='The rain in spain'\n",
    "x=re.findall(r\"^Th\",txt)\n",
    "print(x)"
   ]
  },
  {
   "cell_type": "code",
   "execution_count": 11,
   "metadata": {},
   "outputs": [
    {
     "name": "stdout",
     "output_type": "stream",
     "text": [
      "['in']\n"
     ]
    }
   ],
   "source": [
    "txt='The rain in spain'\n",
    "x=re.findall(r\"in$\",txt)\n",
    "print(x)"
   ]
  },
  {
   "cell_type": "code",
   "execution_count": 12,
   "metadata": {},
   "outputs": [
    {
     "name": "stdout",
     "output_type": "stream",
     "text": [
      "['helo', 'he o']\n"
     ]
    }
   ],
   "source": [
    "txt='hello helo heo he o'\n",
    "x=re.findall(r\"h..o\",txt)\n",
    "print(x)"
   ]
  },
  {
   "cell_type": "code",
   "execution_count": 14,
   "metadata": {},
   "outputs": [
    {
     "name": "stdout",
     "output_type": "stream",
     "text": [
      "['hello helo heo he o']\n"
     ]
    }
   ],
   "source": [
    "txt='hello helo heo he o'\n",
    "x=re.findall(r\"h.*o\",txt)\n",
    "print(x)"
   ]
  },
  {
   "cell_type": "code",
   "execution_count": 15,
   "metadata": {},
   "outputs": [
    {
     "name": "stdout",
     "output_type": "stream",
     "text": [
      "['hello helo heo he o']\n"
     ]
    }
   ],
   "source": [
    "txt='hello helo heo he o'\n",
    "x=re.findall(r\"h.+o\",txt)\n",
    "print(x)"
   ]
  },
  {
   "cell_type": "code",
   "execution_count": 16,
   "metadata": {},
   "outputs": [
    {
     "name": "stdout",
     "output_type": "stream",
     "text": [
      "['heo']\n"
     ]
    }
   ],
   "source": [
    "txt='hello helo heo he o'\n",
    "x=re.findall(r\"h.?o\",txt)\n",
    "print(x)"
   ]
  },
  {
   "cell_type": "code",
   "execution_count": 17,
   "metadata": {},
   "outputs": [
    {
     "name": "stdout",
     "output_type": "stream",
     "text": [
      "['helo', 'he o']\n"
     ]
    }
   ],
   "source": [
    "txt='hello helo heo he o'\n",
    "x=re.findall(r\"h.{2}o\",txt)\n",
    "print(x)"
   ]
  },
  {
   "cell_type": "code",
   "execution_count": 21,
   "metadata": {},
   "outputs": [
    {
     "name": "stdout",
     "output_type": "stream",
     "text": [
      "['hello', 'helo', 'helllo', 'he o']\n"
     ]
    }
   ],
   "source": [
    "txt='hello helo heo helllo he o heelllo'\n",
    "x=re.findall(r\"h.{2,4}o\",txt)\n",
    "print(x)"
   ]
  },
  {
   "cell_type": "code",
   "execution_count": 23,
   "metadata": {},
   "outputs": [
    {
     "name": "stdout",
     "output_type": "stream",
     "text": [
      "['hello', 'heo']\n"
     ]
    }
   ],
   "source": [
    "txt='hello helo heo he o'\n",
    "x=re.findall(r'heo|hello',txt)\n",
    "print(x)"
   ]
  },
  {
   "cell_type": "code",
   "execution_count": null,
   "metadata": {},
   "outputs": [],
   "source": []
  }
 ],
 "metadata": {
  "kernelspec": {
   "display_name": "Python 3",
   "language": "python",
   "name": "python3"
  },
  "language_info": {
   "codemirror_mode": {
    "name": "ipython",
    "version": 3
   },
   "file_extension": ".py",
   "mimetype": "text/x-python",
   "name": "python",
   "nbconvert_exporter": "python",
   "pygments_lexer": "ipython3",
   "version": "3.8.5"
  }
 },
 "nbformat": 4,
 "nbformat_minor": 4
}
