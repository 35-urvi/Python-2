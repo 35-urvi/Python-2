{
 "cells": [
  {
   "cell_type": "code",
   "execution_count": 16,
   "metadata": {},
   "outputs": [
    {
     "name": "stdout",
     "output_type": "stream",
     "text": [
      "Overwriting tcpservere.py\n"
     ]
    }
   ],
   "source": [
    "# input:1 2 3 4 5 6 7 8 9 10  \n",
    "# output: 1 27 125 343 729\n",
    "%%writefile tcpservere.py\n",
    "import socket\n",
    "host=socket.gethostname()\n",
    "port=5000\n",
    "server_socket=socket.socket()\n",
    "server_socket.bind((host,port))\n",
    "server_socket.listen()\n",
    "conn,address=server_socket.accept()\n",
    "data=conn.recv(1024).decode()\n",
    "print('from connected user:',data)\n",
    "conn.close()"
   ]
  },
  {
   "cell_type": "code",
   "execution_count": 17,
   "metadata": {},
   "outputs": [
    {
     "name": "stdout",
     "output_type": "stream",
     "text": [
      "Overwriting tcpcliente.py\n"
     ]
    }
   ],
   "source": [
    "%%writefile tcpcliente.py\n",
    "import socket\n",
    "host=socket.gethostname()\n",
    "# host='406-1-16'\n",
    "port=5000\n",
    "client_socket=socket.socket()\n",
    "client_socket.connect((host,port))\n",
    "message=input('->')\n",
    "l=message.split()\n",
    "n=[]\n",
    "for i in l:\n",
    "    n.append(int(i))\n",
    "odd=list(filter(lambda x:x%2!=0,n))\n",
    "cube=list(map(lambda x:x**3,odd))\n",
    "ans=''\n",
    "for i in cube:\n",
    "    ans=ans+str(i)+\" \"\n",
    "client_socket.send(ans.encode())\n",
    "client_socket.close()"
   ]
  },
  {
   "cell_type": "code",
   "execution_count": 21,
   "metadata": {},
   "outputs": [
    {
     "name": "stdout",
     "output_type": "stream",
     "text": [
      "Overwriting server.py\n"
     ]
    }
   ],
   "source": [
    "#send file as an input and recive file and create file as output\n",
    "%%writefile server.py\n",
    "import socket\n",
    "host='localhost'\n",
    "port=65432\n",
    "Buffer_size=1024\n",
    "with socket.socket() as s:\n",
    "    s.bind((host,port))\n",
    "    s.listen()\n",
    "    conn,addr=s.accept()\n",
    "    with conn:\n",
    "        print('connect by',addr)\n",
    "        file_data=b\"\"\n",
    "        while True:\n",
    "            data=conn.recv(Buffer_size)\n",
    "            if not data:\n",
    "                break\n",
    "            file_data=data\n",
    "        with open('recv.ipynb','wb') as f:\n",
    "            f.write(file_data)\n",
    "        print('file recived')"
   ]
  },
  {
   "cell_type": "code",
   "execution_count": 22,
   "metadata": {},
   "outputs": [
    {
     "name": "stdout",
     "output_type": "stream",
     "text": [
      "Overwriting client.py\n"
     ]
    }
   ],
   "source": [
    "%%writefile client.py\n",
    "import socket\n",
    "\n",
    "host = \"localhost\"\n",
    "port = 65432\n",
    "Buffer_size = 1024\n",
    "with socket.socket() as s:\n",
    "    s.connect((host,port))\n",
    "    with open('chapter 7 7.1.ipynb','rb') as f:\n",
    "        while True:\n",
    "            data = f.read(Buffer_size)\n",
    "            if not data:\n",
    "                break\n",
    "            s.sendall(data)\n",
    "        print('file send')"
   ]
  },
  {
   "cell_type": "code",
   "execution_count": 71,
   "metadata": {},
   "outputs": [
    {
     "name": "stdout",
     "output_type": "stream",
     "text": [
      "226610141.93806237\n",
      "0.11614205640107322\n"
     ]
    }
   ],
   "source": [
    "import requests\n",
    "import numpy as np\n",
    "import pandas as pd\n",
    "from bs4 import BeautifulSoup\n",
    "from sklearn.linear_model import LinearRegression\n",
    "from sklearn.model_selection import train_test_split\n",
    "from sklearn.metrics import mean_squared_error,r2_score\n",
    "\n",
    "with open('vishal_new.html','r',encoding='utf-8') as file:\n",
    "    html_content=file.read()\n",
    "soup=BeautifulSoup(html_content)\n",
    "# print(soup.prettify())\n",
    "box=soup.findAll('div',class_='_2kHMtA')\n",
    "name=[]\n",
    "rating=[]\n",
    "sprice=[]\n",
    "price=[]\n",
    "for i in box:\n",
    "    name.append(i.find('div',class_='_4rR01T').get_text())\n",
    "    rating.append(float(i.find('div',class_='_3LWZlK').get_text()))\n",
    "    sprice.append(int(i.find('div',class_='_30jeq3 _1_WHN1').text[1:3]+\n",
    "                  i.find('div',class_='_30jeq3 _1_WHN1').text[4:]))\n",
    "    try:\n",
    "        price.append(int(i.find('div',class_='_3I9_wc _27UcVY').text[1:].replace(\",\",\"\")))\n",
    "    except:\n",
    "        price.append(np.nan)\n",
    "\n",
    "d={'name':name,'rating':rating,'sprice':sprice,'price':price}\n",
    "df=pd.DataFrame(d)\n",
    "df\n",
    "df.dropna(inplace=True)\n",
    "x=df[['rating','sprice']]\n",
    "y=df['price']  \n",
    "x_train,x_test,y_train,y_test=train_test_split(x,y,test_size=0.2,random_state=42)\n",
    "\n",
    "model=LinearRegression()\n",
    "model.fit(x_train,y_train)\n",
    "y_pred=model.predict(x_test)\n",
    "\n",
    "print(mean_squared_error(y_test,y_pred))\n",
    "print(r2_score(y_test,y_pred))"
   ]
  },
  {
   "cell_type": "code",
   "execution_count": null,
   "metadata": {},
   "outputs": [],
   "source": []
  }
 ],
 "metadata": {
  "kernelspec": {
   "display_name": "Python 3",
   "language": "python",
   "name": "python3"
  },
  "language_info": {
   "codemirror_mode": {
    "name": "ipython",
    "version": 3
   },
   "file_extension": ".py",
   "mimetype": "text/x-python",
   "name": "python",
   "nbconvert_exporter": "python",
   "pygments_lexer": "ipython3",
   "version": "3.8.5"
  }
 },
 "nbformat": 4,
 "nbformat_minor": 4
}
