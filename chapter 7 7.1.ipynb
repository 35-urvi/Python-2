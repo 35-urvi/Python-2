{
 "cells": [
  {
   "cell_type": "code",
   "execution_count": 8,
   "metadata": {},
   "outputs": [
    {
     "name": "stdout",
     "output_type": "stream",
     "text": [
      "406-1-18\n",
      "192.168.104.18\n"
     ]
    }
   ],
   "source": [
    "import socket\n",
    "print(socket.gethostname())\n",
    "print(socket.gethostbyname(socket.gethostname()))"
   ]
  },
  {
   "cell_type": "code",
   "execution_count": 11,
   "metadata": {},
   "outputs": [
    {
     "name": "stdout",
     "output_type": "stream",
     "text": [
      "Overwriting tcpserver.py\n"
     ]
    }
   ],
   "source": [
    "# server\n",
    "%%writefile tcpserver.py\n",
    "import socket\n",
    "host=socket.gethostname()\n",
    "port=5000\n",
    "server_socket=socket.socket()\n",
    "server_socket.bind((host,port))\n",
    "server_socket.listen()\n",
    "conn,address=server_socket.accept()\n",
    "print('connection from:',str(address))\n",
    "while True:\n",
    "    data=conn.recv(1024).decode()\n",
    "    if not data:\n",
    "        break\n",
    "    print('from connected user:',str(data))\n",
    "    data=input('->')\n",
    "    conn.send(data.encode())\n",
    "conn.close()"
   ]
  },
  {
   "cell_type": "code",
   "execution_count": 17,
   "metadata": {},
   "outputs": [
    {
     "name": "stdout",
     "output_type": "stream",
     "text": [
      "Overwriting tcpclient.py\n"
     ]
    }
   ],
   "source": [
    "# client\n",
    "%%writefile tcpclient.py\n",
    "import socket\n",
    "# host=socket.gethostname()\n",
    "host='406-1-16'\n",
    "port=5000\n",
    "client_socket=socket.socket()\n",
    "client_socket.connect((host,port))\n",
    "message=input('->')\n",
    "while message.lower().strip()!='bye':\n",
    "    client_socket.send(message.encode())\n",
    "    data=client_socket.recv(1024).decode()\n",
    "    print('recieved from server',data)\n",
    "    message=input('->')\n",
    "client_socket.close()"
   ]
  },
  {
   "cell_type": "code",
   "execution_count": 19,
   "metadata": {},
   "outputs": [
    {
     "name": "stdout",
     "output_type": "stream",
     "text": [
      "Writing tcpserver1.py\n"
     ]
    }
   ],
   "source": [
    "# server\n",
    "%%writefile tcpserver1.py\n",
    "import socket\n",
    "host=socket.gethostname()\n",
    "port=5000\n",
    "server_socket=socket.socket(type=socket.SOCK_DGRAM)\n",
    "server_socket.bind((host,port))\n",
    "while True:\n",
    "    print('connecting for message:')\n",
    "    data,addr=server_socket.recvfrom(1024)\n",
    "    print('recived',data.decode())\n",
    "    msg=input('->')\n",
    "    server_socket.sendto(msg.encode(),addr)\n",
    "server_socket.close()"
   ]
  },
  {
   "cell_type": "code",
   "execution_count": 23,
   "metadata": {},
   "outputs": [
    {
     "name": "stdout",
     "output_type": "stream",
     "text": [
      "Overwriting tcpclient1.py\n"
     ]
    }
   ],
   "source": [
    "# client\n",
    "%%writefile tcpclient2.py\n",
    "import socket\n",
    "host=socket.gethostname()\n",
    "# host='406-1-16'\n",
    "port=5000\n",
    "client_socket=socket.socket(type=socket.SOCK_DGRAM)\n",
    "ADDR=(host,port)\n",
    "while True:\n",
    "    data=input('->')\n",
    "    if not data:\n",
    "        break\n",
    "    client_socket.sendto(data.encode(),ADDR)\n",
    "    print('recieve data')\n",
    "    data,ADDR=client_socket.recvfrom(1024)\n",
    "    if not data:\n",
    "        break\n",
    "    print('recived',data.decode())\n",
    "client_socket.close()"
   ]
  },
  {
   "cell_type": "code",
   "execution_count": 24,
   "metadata": {},
   "outputs": [
    {
     "name": "stdout",
     "output_type": "stream",
     "text": [
      "Writing tcpserver2.py\n"
     ]
    }
   ],
   "source": [
    "# server\n",
    "%%writefile tcpserver2.py\n",
    "import socket\n",
    "host=socket.gethostname()\n",
    "port=5000\n",
    "server_socket=socket.socket(type=socket.SOCK_DGRAM)\n",
    "server_socket.bind((host,port))\n",
    "while True:\n",
    "    print('connecting for message:')\n",
    "    data,addr=server_socket.recvfrom(1024)\n",
    "    print('recived',data.decode())\n",
    "    msg=input('->')\n",
    "    server_socket.sendto(msg.encode(),addr)\n",
    "server_socket.close()"
   ]
  },
  {
   "cell_type": "code",
   "execution_count": 25,
   "metadata": {},
   "outputs": [
    {
     "name": "stdout",
     "output_type": "stream",
     "text": [
      "Writing tcpclient2.py\n"
     ]
    }
   ],
   "source": [
    "# client\n",
    "%%writefile tcpclient2.py\n",
    "import socket\n",
    "host=socket.gethostname()\n",
    "# host='406-1-16'\n",
    "port=5000\n",
    "client_socket=socket.socket(type=socket.SOCK_DGRAM)\n",
    "ADDR=(host,port)\n",
    "while True:\n",
    "    data=input('->')\n",
    "    if not data:\n",
    "        break\n",
    "    if len(data)==5:\n",
    "        client_socket.sendto(data.encode(),ADDR)\n",
    "    print('recieve data')\n",
    "    data,ADDR=client_socket.recvfrom(1024)\n",
    "    if not data:\n",
    "        break\n",
    "    print('recived',data.decode())\n",
    "client_socket.close()"
   ]
  },
  {
   "cell_type": "code",
   "execution_count": null,
   "metadata": {},
   "outputs": [],
   "source": []
  }
 ],
 "metadata": {
  "kernelspec": {
   "display_name": "Python 3",
   "language": "python",
   "name": "python3"
  },
  "language_info": {
   "codemirror_mode": {
    "name": "ipython",
    "version": 3
   },
   "file_extension": ".py",
   "mimetype": "text/x-python",
   "name": "python",
   "nbconvert_exporter": "python",
   "pygments_lexer": "ipython3",
   "version": "3.8.5"
  }
 },
 "nbformat": 4,
 "nbformat_minor": 4
}
